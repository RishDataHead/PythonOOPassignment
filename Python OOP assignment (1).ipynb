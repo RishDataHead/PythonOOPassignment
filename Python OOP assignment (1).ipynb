{
 "cells": [
  {
   "cell_type": "markdown",
   "metadata": {},
   "source": [
    "# Q1. What is the purpose of Python's OOP?"
   ]
  },
  {
   "cell_type": "markdown",
   "metadata": {},
   "source": [
    "The purpose of Python's OOP is to make code more modular, reusable, and understandable.\n",
    "\n",
    "\n",
    "\n",
    "Modularity: OOP makes it easy to break down a program into smaller, more manageable units.\n",
    "Reusability: OOP makes it easy to create reusable code.\n",
    "Understandability: OOP can help to improve the understandability of code.\n",
    "Performance: OOP can help to improve the performance of code."
   ]
  },
  {
   "cell_type": "markdown",
   "metadata": {},
   "source": [
    "# Q2. Where does an inheritance search look for an attribute?"
   ]
  },
  {
   "cell_type": "markdown",
   "metadata": {},
   "source": [
    "An inheritance search looks for an attribute first in the instance object, then in the class the instance was created from, then in all higher superclasses, progressing from left to right (by default). The search stops at the first place the attribute is found."
   ]
  },
  {
   "cell_type": "markdown",
   "metadata": {},
   "source": [
    "# Q3. How do you distinguish between a class object and an instance object?"
   ]
  },
  {
   "cell_type": "markdown",
   "metadata": {},
   "source": [
    "There are two ways:\n",
    "1) We can use type() method to distinguish between a class and an object instance. For Class it will return Class and for an object the type() function will return the class from where the instance is created from.\n",
    "2) We can also use isinstance() method to distinguish between a class instance and an object instance."
   ]
  },
  {
   "cell_type": "markdown",
   "metadata": {},
   "source": [
    "# Q4. What makes the first argument in a class’s method function special?"
   ]
  },
  {
   "cell_type": "markdown",
   "metadata": {},
   "source": [
    "The first argument in a class's method function is special because it allows us to access the attributes and methods of the instance on which the method is being called. This is a powerful feature that allows us to write more flexible and reusable code."
   ]
  },
  {
   "cell_type": "markdown",
   "metadata": {},
   "source": [
    "# Q5. What is the purpose of the init method?"
   ]
  },
  {
   "cell_type": "markdown",
   "metadata": {},
   "source": [
    "The purpose of the __init__ method is to initialize the attributes of an object when it is created. The __init__ method is called automatically when an object is created, and it is typically used to set default values for the object's attributes."
   ]
  },
  {
   "cell_type": "markdown",
   "metadata": {},
   "source": [
    "# Q6. What is the process for creating a class instance?"
   ]
  },
  {
   "cell_type": "markdown",
   "metadata": {},
   "source": [
    "An instance of a class can be created by using the following syntax:\n",
    "\n",
    "objectname = Classname(parameter1,parameter2)\n",
    "\n",
    "for example\n",
    "dog = Dog(\"Tesla\",1) "
   ]
  },
  {
   "cell_type": "markdown",
   "metadata": {},
   "source": [
    "# Q7. What is the process for creating a class?"
   ]
  },
  {
   "cell_type": "markdown",
   "metadata": {},
   "source": [
    "A class can be created by using the Class keyword\n",
    "    for example class Animal creates a class of Animal name\n",
    "    \n",
    " Attributes to the class can be added later as:\n",
    " Class Animal:\n",
    "     name = \"Tesla\""
   ]
  },
  {
   "cell_type": "markdown",
   "metadata": {},
   "source": [
    "# Q8. How would you define the superclasses of a class?"
   ]
  },
  {
   "cell_type": "markdown",
   "metadata": {},
   "source": [
    "The superclasses of a class are the classes from which it inherits. In Python, a class can inherit from one or more other classes. The superclasses of a class are listed in the __bases__ attribute of the class.\n",
    "\n",
    "A superclass can be defined in code as:\n",
    "class Animal(Mammal):\n",
    "    pass\n",
    "    \n",
    "Here Mammal is a superclass and Animal class can access all attributes and method of a class."
   ]
  },
  {
   "cell_type": "markdown",
   "metadata": {},
   "source": [
    "# Q9. What is the relationship between classes and modules?"
   ]
  },
  {
   "cell_type": "markdown",
   "metadata": {},
   "source": [
    "A class is a blueprint for an object. It defines the attributes and methods that an object will have. When an object is created from a class, it is said to be an instance of that class.\n",
    "\n",
    "A module is a collection of related code. It can contain classes, functions, variables, and other code. Modules are used to organize code and make it easier to reuse.\n",
    "\n",
    "The relationship between classes and modules is that classes can be defined in modules. This means that we can create objects from classes that are defined in other modules."
   ]
  },
  {
   "cell_type": "markdown",
   "metadata": {},
   "source": [
    "# Q10. How do you make instances and classes?"
   ]
  },
  {
   "cell_type": "markdown",
   "metadata": {},
   "source": [
    "A class can be created by using  Class keyword and an instance of a class can be made by using the following syntax\n",
    "obj_name = classname()\n",
    "\n",
    "class Animal:\n",
    "    def speak(self):\n",
    "        print(\"I am an animal\")\n",
    "\n",
    "animal = Animal()\n",
    "\n",
    "animal.speak()"
   ]
  },
  {
   "cell_type": "markdown",
   "metadata": {},
   "source": [
    "# Q11. Where and how should be class attributes created?"
   ]
  },
  {
   "cell_type": "markdown",
   "metadata": {},
   "source": [
    "Class attributes should be created inside the class definition, outside of any methods. They can be defined at the top of the class definition, or they can be defined within methods.\n",
    "\n",
    "Class attributes are shared by all instances of the class. This means that if you change the value of a class attribute, the change will be reflected in all instances of the class.\n",
    "\n",
    "Instance attributes are created on a per-instance basis. This means that each instance of a class can have its own unique set of instance attributes.\n",
    "\n",
    "Here is an example of how to create a class attribute:\n",
    "\n",
    "class Animal:\n",
    "    legs = 4\n",
    "    \n",
    "animal = Animal()\n",
    "animal.name = \"Fred\"\n",
    "\n",
    "This creates an instance attribute called name with a value of \"Fred\". This attribute is specific to the animal instance and is not shared by other instances of the Animal class."
   ]
  },
  {
   "cell_type": "markdown",
   "metadata": {},
   "source": [
    "# Q12. Where and how are instance attributes created?"
   ]
  },
  {
   "cell_type": "markdown",
   "metadata": {},
   "source": [
    "instance attributes are created on a per-instance basis. This means that each instance of a class can have its own unique set of instance attributes.\n",
    "\n",
    "Instance attributes are created using the dot notation. For example, the following code creates an instance attribute called name with a value of \"Fred\":\n",
    "\n",
    "animal = Animal()\n",
    "animal.name = \"Fred\"\n",
    "\n",
    "The name attribute is specific to the animal instance and is not shared by other instances of the Animal class."
   ]
  },
  {
   "cell_type": "markdown",
   "metadata": {},
   "source": [
    "# Q13. What does the term \"self\" in a Python class mean?"
   ]
  },
  {
   "cell_type": "markdown",
   "metadata": {},
   "source": [
    "\n",
    "The term \"self\" in a Python class refers to the current instance of the class. It is used to access the attributes and methods of the instance.\n",
    "\n",
    "For example, the following code defines a class called Animal with a method called speak():\n",
    "\n",
    "class Animal:\n",
    "    def speak(self):\n",
    "        print(\"I am an animal\")\n",
    "        \n",
    "The speak() method can be called on any instance of the Animal class. When the method is called, the self keyword refers to the current instance of the class.\n",
    "\n",
    "For example, the following code creates an instance of the Animal class and calls the speak() method:\n",
    "\n",
    "animal = Animal()\n",
    "animal.speak()\n",
    "\n"
   ]
  },
  {
   "cell_type": "markdown",
   "metadata": {},
   "source": [
    "# Q14. How does a Python class handle operator overloading?"
   ]
  },
  {
   "cell_type": "markdown",
   "metadata": {},
   "source": [
    "Operator overloading in Python is a way to change the meaning of built-in operators for a particular class. This can be useful for creating more intuitive and expressive code.\n",
    "\n",
    "To overload an operator, you need to define a special method in your class with the same name as the operator. For example, to overload the + operator, you would define a method called add().\n",
    "\n",
    "The add() method takes two arguments: self and other. self is the instance of the class that is being operated on, and other is the object that is being operated with. The add() method should return the result of the operation.\n",
    "\n",
    "For example, the following code defines a class called Point with an add() method that adds the coordinates of two points:\n",
    "\n",
    "class Point:\n",
    "    def __init__(self, x, y):\n",
    "        self.x = x\n",
    "        self.y = y\n",
    "\n",
    "    def __add__(self, other):\n",
    "        return Point(self.x + other.x, self.y + other.y)\n",
    "        \n",
    "p1 = Point(1, 2)\n",
    "p2 = Point(3, 4)\n",
    "\n",
    "p3 = p1 + p2"
   ]
  },
  {
   "cell_type": "markdown",
   "metadata": {},
   "source": [
    "# Q15. When do you consider allowing operator overloading of your classes?"
   ]
  },
  {
   "cell_type": "markdown",
   "metadata": {},
   "source": [
    "Operator overloading is a powerful feature that can be used to make your code more intuitive and expressive. However, it is important to use it judiciously and only when it makes sense for the semantics of your class.\n",
    "\n",
    "Here are some guidelines for when to consider allowing operator overloading of your classes:\n",
    "\n",
    "When the operator has a natural meaning for your class. For example, it makes sense to overload the + operator for a class that represents numbers, so that you can add two instances of the class together.\n",
    "When the operator will make your code more readable and understandable. For example, it makes sense to overload the == operator for a class that represents boolean values, so that you can compare two instances of the class for equality.\n",
    "When the operator will make your code more concise. For example, it makes sense to overload the * operator for a class that represents strings, so that you can concatenate two strings together using the * operator.\n",
    "It is important to avoid overloading operators in a way that is confusing or misleading. For example, it would be confusing to overload the + operator for a class that represents strings, so that you could concatenate two strings together using the + operator. This is because the + operator is already overloaded for numbers, and it would be easy for someone to accidentally use the + operator for strings when they meant to use it for numbers.\n",
    "\n",
    "Overall, operator overloading is a powerful feature that can be used to make your code more intuitive and expressive. However, it is important to use it judiciously and only when it makes sense for the semantics of your class."
   ]
  },
  {
   "cell_type": "markdown",
   "metadata": {},
   "source": [
    "# Q16. What is the most popular form of operator overloading?"
   ]
  },
  {
   "cell_type": "markdown",
   "metadata": {},
   "source": [
    "The most popular form of operator overloading in Python is the use of the + operator to concatenate strings. This is because strings are a common data type in Python, and it is often useful to be able to concatenate strings together using the + operator.\n",
    "\n",
    "For example, the following code concatenates two strings together using the + operator:\n",
    "\n",
    "Python\n",
    "str1 = \"Hello\"\n",
    "str2 = \"World\"\n",
    "\n",
    "str3 = str1 + str2\n",
    "Use code with caution. Learn more\n",
    "The str3 variable will now refer to the string \"HelloWorld\".\n",
    "\n",
    "The + operator can also be used to concatenate other types of objects, such as lists and tuples. However, it is more common to use the + operator to concatenate strings.\n",
    "\n",
    "Here are some other examples of operator overloading in Python:\n",
    "\n",
    "The * operator can be overloaded to multiply numbers or strings.\n",
    "The == operator can be overloaded to compare numbers, strings, or other objects for equality.\n",
    "The != operator can be overloaded to compare numbers, strings, or other objects for inequality.\n",
    "The < operator can be overloaded to compare numbers, strings, or other objects for less than.\n",
    "The > operator can be overloaded to compare numbers, strings, or other objects for greater than.\n",
    "The <= operator can be overloaded to compare numbers, strings, or other objects for less than or equal to.\n",
    "The >= operator can be overloaded to compare numbers, strings, or other objects for greater than or equal to.\n",
    "Operator overloading can be a powerful tool for making your code more intuitive and expressive. However, it is important to use it judiciously and only when it makes sense for the semantics of your class."
   ]
  },
  {
   "cell_type": "markdown",
   "metadata": {},
   "source": [
    "# Q17. What are the two most important concepts to grasp in order to comprehend Python OOP code?"
   ]
  },
  {
   "cell_type": "markdown",
   "metadata": {},
   "source": [
    "The two most important concepts to grasp in order to comprehend Python OOP code are:\n",
    "\n",
    "Inheritance\n",
    "Polymorphism\n",
    "Inheritance is the ability of one class to inherit the attributes and methods of another class. This allows you to reuse code and create more complex and sophisticated objects.\n",
    "\n",
    "Polymorphism is the ability of objects to respond to the same message in different ways. This allows you to create more flexible and adaptable code.\n",
    "\n",
    "Here are some examples of how inheritance and polymorphism can be used in Python OOP code:\n",
    "\n",
    "You can create a class called Animal that inherits from the Object class. This means that all of the attributes and methods of the Object class will be available to the Animal class.\n",
    "You can create a method called speak() in the Animal class. This method will be able to be called on any object that inherits from the Animal class.\n",
    "You can create a class called Dog that inherits from the Animal class. The Dog class can override the speak() method to provide a different implementation of the method.\n",
    "Inheritance and polymorphism are two powerful concepts that can be used to create more complex and sophisticated Python OOP code. By understanding these concepts, you will be able to write more flexible and adaptable code."
   ]
  },
  {
   "cell_type": "markdown",
   "metadata": {},
   "source": [
    "# Q18. Describe three applications for exception processing."
   ]
  },
  {
   "cell_type": "markdown",
   "metadata": {},
   "source": [
    "To handle invalid user input. For example, if a user tries to enter a negative number into a text field, an exception can be raised to prevent the program from crashing. The exception can then be handled by displaying an error message to the user.\n",
    "\n",
    "To handle errors in code. For example, if a program tries to divide by zero, an exception can be raised to prevent the program from crashing. The exception can then be handled by displaying an error message to the user or by logging the error to a file.\n",
    "\n",
    "To handle errors in external systems. For example, if a program tries to connect to a database and the connection fails, an exception can be raised to prevent the program from crashing. The exception can then be handled by trying to reconnect to the database or by displaying an error message to the user."
   ]
  },
  {
   "cell_type": "markdown",
   "metadata": {},
   "source": [
    "# Q19. What happens if you don't do something extra to treat an exception?"
   ]
  },
  {
   "cell_type": "markdown",
   "metadata": {},
   "source": [
    "The program will crash.\n",
    "The program will print an error message to the console.\n",
    "The program will continue running, but the results may be incorrect."
   ]
  },
  {
   "cell_type": "markdown",
   "metadata": {},
   "source": [
    "# Q20. What are your options for recovering from an exception in your script?"
   ]
  },
  {
   "cell_type": "markdown",
   "metadata": {},
   "source": [
    "Catch the exception and handle it yourself. This is the most common way to handle exceptions. When you catch an exception, you can take steps to recover from the error, such as displaying an error message to the user or logging the error to a file.\n",
    "\n",
    "Rethrow the exception. This is useful if you want to let another part of your program handle the exception. For example, you might rethrow an exception to a higher-level function that can handle the error more gracefully.\n",
    "\n",
    "Ignore the exception. This is not recommended, as it can lead to unexpected behavior in your program. However, it may be necessary in some cases, such as when the exception is caused by an event that is outside of your control."
   ]
  },
  {
   "cell_type": "markdown",
   "metadata": {},
   "source": [
    "# Q21. Describe two methods for triggering exceptions in your script."
   ]
  },
  {
   "cell_type": "markdown",
   "metadata": {},
   "source": [
    "Here are two methods for triggering exceptions in your script:\n",
    "\n",
    "1)Using the raise statement. The raise statement can be used to raise an exception explicitly. \n",
    "\n",
    "2)Using the assert statement. The assert statement can be used to check for a condition. If the condition is not met, an AssertionError exception is raised. \n",
    "\n"
   ]
  },
  {
   "cell_type": "markdown",
   "metadata": {},
   "source": [
    "# Q22. Identify two methods for specifying actions to be executed at termination time, regardless of whether or not an exception exists."
   ]
  },
  {
   "cell_type": "markdown",
   "metadata": {},
   "source": [
    "There are two methods for specifying actions to be executed at termination time, regardless of whether or not an exception exists:\n",
    "\n",
    "Using the finally clause. The finally clause is executed regardless of whether or not an exception occurs. \n",
    "\n",
    "Using the atexit function. The atexit function can be used to register a function that will be executed when the program terminates."
   ]
  },
  {
   "cell_type": "markdown",
   "metadata": {},
   "source": [
    "# Q23. What is the purpose of the try statement?"
   ]
  },
  {
   "cell_type": "markdown",
   "metadata": {},
   "source": [
    "\n",
    "The purpose of the try statement is to execute a block of code and handle any exceptions that may occur. It is always followed by an except clause."
   ]
  },
  {
   "cell_type": "markdown",
   "metadata": {},
   "source": [
    "# Q24. What are the two most popular try statement variations?"
   ]
  },
  {
   "cell_type": "markdown",
   "metadata": {},
   "source": [
    "1) Try expect\n",
    "2) Try expect else"
   ]
  },
  {
   "cell_type": "markdown",
   "metadata": {},
   "source": [
    "# Q25. What is the purpose of the raise statement?"
   ]
  },
  {
   "cell_type": "markdown",
   "metadata": {},
   "source": [
    "The raise statement is used to raise an exception explicitly. The syntax for the raise statement is:\n",
    "raise exception_type [, exception_value [, traceback]]\n",
    "\n",
    "The exception_type argument is the type of exception that you want to raise. The exception_value argument is the value of the exception. The traceback argument is a traceback object that can be used to debug the exception.\n",
    "\n",
    "For example:\n",
    "\n",
    "raise ValueError(\"This is an invalid value\")\n",
    "\n",
    "The raise statement can be used to simulate errors in your code for testing purposes. It can also be used to raise exceptions that are not handled by the try/except statement."
   ]
  },
  {
   "cell_type": "markdown",
   "metadata": {},
   "source": [
    "# Q26. What does the assert statement do, and what other statement is it like?"
   ]
  },
  {
   "cell_type": "markdown",
   "metadata": {},
   "source": [
    "The assert statement is used to check for a condition. If the condition is not met, an AssertionError exception is raised.\n",
    "\n",
    "The expression argument is the expression that you want to check. The message argument is a message that will be printed if the expression is not met.\n",
    "assert x == 10, \"x is not equal to 10\"\n",
    "\n",
    "\n",
    "The assert statement is similar to the if statement in that it can be used to check for a condition. However, the assert statement is different from the if statement in that it always raises an exception if the condition is not met. The if statement, on the other hand, can continue executing code if the condition is not met."
   ]
  },
  {
   "cell_type": "markdown",
   "metadata": {},
   "source": [
    "# Q27. What is the purpose of the with/as argument, and what other statement is it like?"
   ]
  },
  {
   "cell_type": "markdown",
   "metadata": {},
   "source": [
    "The with/as statement is used to ensure that resources are properly cleaned up when they are no longer needed. \n",
    "for example \n",
    "with open(\"myfile.txt\") as f:\n",
    "  print(f.read())"
   ]
  },
  {
   "cell_type": "markdown",
   "metadata": {},
   "source": [
    "# Q28. What are *args, **kwargs? "
   ]
  },
  {
   "cell_type": "markdown",
   "metadata": {},
   "source": [
    "args and **kwargs are special keywords that allow you to pass a variable number of arguments to a function.\n",
    "\n",
    "*args is used to pass a variable number of positional arguments, while **kwargs is used to pass a variable number of keyword arguments."
   ]
  },
  {
   "cell_type": "markdown",
   "metadata": {},
   "source": [
    "# Q29. How can I pass optional or keyword parameters from one function to another?"
   ]
  },
  {
   "cell_type": "markdown",
   "metadata": {},
   "source": [
    "The *args and **kwargs parameters can be used to pass a variable number of positional and keyword arguments to a function. When you use these parameters, the arguments are passed to the function as a tuple and a dictionary, respectively.\n",
    "\n",
    "Using the ** operator:\n",
    "The ** operator can be used to pass a dictionary of keyword arguments to a function. When you use the ** operator, the dictionary is passed to the function as a keyword argument."
   ]
  },
  {
   "cell_type": "markdown",
   "metadata": {},
   "source": [
    "# Q30. What are Lambda Functions?"
   ]
  },
  {
   "cell_type": "markdown",
   "metadata": {},
   "source": [
    "\n",
    "Lambda functions are anonymous functions in Python. They are defined using the lambda keyword and can be used anywhere a regular function can be used. Lambda functions are often used in short, one-off tasks, such as filtering or mapping lists.\n",
    "\n",
    "\n",
    "The arguments argument is a list of variables that the lambda function can access. The expression argument is the expression that the lambda function will evaluate.\n",
    "\n",
    "for example\n",
    "\n",
    "result = lambda x, y: x + y\n",
    "print(result(1, 2))\n",
    "\n",
    "result = 3"
   ]
  },
  {
   "cell_type": "code",
   "execution_count": null,
   "metadata": {},
   "outputs": [],
   "source": []
  },
  {
   "cell_type": "markdown",
   "metadata": {},
   "source": [
    "Inheritance is a way of reusing code in Python. It allows you to create a new class that inherits from an existing class. The new class can then use all the methods and properties of the existing class.\n",
    "\n",
    "For example, let's say we have a class called Car. This class has methods for driving, braking, and turning. We can then create a new class called SportsCar that inherits from Car. The SportsCar class can then use all the methods and properties of the Car class, but it can also add its own methods and properties.\n",
    "\n",
    "Here is an example of how to create a Car class and a SportsCar class:"
   ]
  },
  {
   "cell_type": "code",
   "execution_count": 8,
   "metadata": {},
   "outputs": [],
   "source": [
    "class Car:\n",
    "    def __init__(self, make, model, year):\n",
    "        self.make = make\n",
    "        self.model = model\n",
    "        self.year = year\n",
    "\n",
    "    def drive(self):\n",
    "        print(\"The car is driving.\")\n",
    "\n",
    "    def brake(self):\n",
    "        print(\"The car is braking.\")\n",
    "\n",
    "    def turn(self):\n",
    "        print(\"The car is turning.\")\n",
    "\n",
    "class SportsCar(Car):\n",
    "    def __init__(self, make, model, year, top_speed):\n",
    "        super().__init__(make, model, year)\n",
    "        self.top_speed = top_speed\n",
    "\n",
    "    def race(self):\n",
    "        print(\"The sports car is racing.\")"
   ]
  },
  {
   "cell_type": "code",
   "execution_count": 11,
   "metadata": {},
   "outputs": [],
   "source": [
    "my_car = SportsCar(\"Ferrari\", \"488 GTB\", 2019, 211)"
   ]
  },
  {
   "cell_type": "code",
   "execution_count": 12,
   "metadata": {},
   "outputs": [
    {
     "name": "stdout",
     "output_type": "stream",
     "text": [
      "The car is driving.\n",
      "The car is braking.\n",
      "The car is turning.\n"
     ]
    }
   ],
   "source": [
    "my_car.drive()\n",
    "my_car.brake()\n",
    "my_car.turn()"
   ]
  },
  {
   "cell_type": "code",
   "execution_count": 13,
   "metadata": {},
   "outputs": [
    {
     "name": "stdout",
     "output_type": "stream",
     "text": [
      "The sports car is racing.\n"
     ]
    }
   ],
   "source": [
    "my_car.race()"
   ]
  },
  {
   "cell_type": "markdown",
   "metadata": {},
   "source": [
    "#    Q32. Suppose class C inherits from classes A and B as class C(A,B).Classes A and B both have their own versions of method func(). If we call func() from an object of class C, which version gets invoked?"
   ]
  },
  {
   "cell_type": "markdown",
   "metadata": {},
   "source": [
    "When a method is invoked on an object of class C, the MRO is used to determine which version of the method is called. For example, if the func() method is invoked on an object of class C, the following steps are taken:\n",
    "\n",
    "The func() method is searched for in class C.\n",
    "If the func() method is not found in class C, then it is searched for in class A.\n",
    "If the func() method is not found in class A, then it is searched for in class B.\n",
    "If the func() method is not found in any of the classes in the MRO, then an error is raised.\n",
    "In this case, the func() method is found in class C, so it is called. If the func() method was not found in class C, then the version of the func() method that is defined in class A would be called. If the func() method was not found in class A either, then the version of the func() method that is defined in class B would be called.\n",
    "\n",
    "The MRO is a powerful tool that can be used to determine which version of a method is called when a method is invoked on an object of a class that inherits from multiple classes. By understanding how the MRO works, you can write code that is more robust and easier to maintain."
   ]
  },
  {
   "cell_type": "markdown",
   "metadata": {},
   "source": [
    "# Q33. Which methods/functions do we use to determine the type of instance and inheritance?"
   ]
  },
  {
   "cell_type": "markdown",
   "metadata": {},
   "source": [
    "We can use type (), isinstance() , issubclass()"
   ]
  },
  {
   "cell_type": "markdown",
   "metadata": {},
   "source": [
    "# Q34.Explain the use of the 'nonlocal' keyword in Python."
   ]
  },
  {
   "cell_type": "markdown",
   "metadata": {},
   "source": [
    "\n",
    "The nonlocal keyword is used to work with variables inside nested functions, where the variable should not belong to the inner function. Use the keyword nonlocal to declare that the variable is not local."
   ]
  },
  {
   "cell_type": "markdown",
   "metadata": {},
   "source": [
    "# Q35. What is the global keyword?"
   ]
  },
  {
   "cell_type": "markdown",
   "metadata": {},
   "source": [
    "The global keyword in Python is used to declare a variable as global. This means that the variable can be accessed from any scope, including nested scopes.\n",
    "\n",
    "For example, the following code defines a function and tries to assign a value to the variable x:"
   ]
  },
  {
   "cell_type": "code",
   "execution_count": 22,
   "metadata": {},
   "outputs": [
    {
     "ename": "NameError",
     "evalue": "name 'x' is not defined",
     "output_type": "error",
     "traceback": [
      "\u001b[1;31m---------------------------------------------------------------------------\u001b[0m",
      "\u001b[1;31mNameError\u001b[0m                                 Traceback (most recent call last)",
      "\u001b[1;32m<ipython-input-22-e4e0784e76a7>\u001b[0m in \u001b[0;36m<module>\u001b[1;34m\u001b[0m\n\u001b[0;32m      4\u001b[0m \u001b[0mmy_function\u001b[0m\u001b[1;33m(\u001b[0m\u001b[1;33m)\u001b[0m\u001b[1;33m\u001b[0m\u001b[1;33m\u001b[0m\u001b[0m\n\u001b[0;32m      5\u001b[0m \u001b[1;33m\u001b[0m\u001b[0m\n\u001b[1;32m----> 6\u001b[1;33m \u001b[0mprint\u001b[0m\u001b[1;33m(\u001b[0m\u001b[0mx\u001b[0m\u001b[1;33m)\u001b[0m\u001b[1;33m\u001b[0m\u001b[1;33m\u001b[0m\u001b[0m\n\u001b[0m",
      "\u001b[1;31mNameError\u001b[0m: name 'x' is not defined"
     ]
    }
   ],
   "source": [
    "def my_function():\n",
    "  x = 1\n",
    "\n",
    "my_function()\n",
    "\n",
    "print(x)"
   ]
  },
  {
   "cell_type": "code",
   "execution_count": 23,
   "metadata": {},
   "outputs": [
    {
     "name": "stdout",
     "output_type": "stream",
     "text": [
      "1\n"
     ]
    }
   ],
   "source": [
    "def my_function():\n",
    "  global x\n",
    "  x = 1\n",
    "\n",
    "my_function()\n",
    "\n",
    "print(x)"
   ]
  },
  {
   "cell_type": "markdown",
   "metadata": {},
   "source": [
    "This code will print 1 because the variable x is now defined in the global scope.\n",
    "\n",
    "The global keyword can also be used to modify the value of a global variable:\n",
    "\n"
   ]
  }
 ],
 "metadata": {
  "kernelspec": {
   "display_name": "Python 3",
   "language": "python",
   "name": "python3"
  },
  "language_info": {
   "codemirror_mode": {
    "name": "ipython",
    "version": 3
   },
   "file_extension": ".py",
   "mimetype": "text/x-python",
   "name": "python",
   "nbconvert_exporter": "python",
   "pygments_lexer": "ipython3",
   "version": "3.7.6"
  }
 },
 "nbformat": 4,
 "nbformat_minor": 4
}
